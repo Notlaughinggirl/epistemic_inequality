{
 "cells": [
  {
   "cell_type": "code",
   "execution_count": 1,
   "metadata": {
    "collapsed": true
   },
   "outputs": [],
   "source": [
    "import sys\n",
    "sys.path.append(\"/Users/allisonmorgan/Code/src/github.com/allisonmorgan/\")"
   ]
  },
  {
   "cell_type": "code",
   "execution_count": 2,
   "metadata": {},
   "outputs": [],
   "source": [
    "from __future__ import division\n",
    "\n",
    "from faculty_hiring.misc.util import *\n",
    "from faculty_hiring.misc.plotting import *  # Definitions for LABEL_SIZE and such\n",
    "from faculty_hiring.misc.gaussian_kde import gaussian_kde\n",
    "from faculty_hiring.parse import faculty_parser, institution_parser\n",
    "from faculty_hiring.parse import load\n",
    "from faculty_hiring.parse.nces import parse_phds_awarded\n",
    "from faculty_hiring.misc.subfield import topic_descriptions, longer_topic_descriptions, num_topics\n",
    "from collections import Counter\n",
    "\n",
    "%matplotlib inline\n",
    "\n",
    "# File locations\n",
    "faculty_file = '/Users/allisonmorgan/Documents/faculty_hiring/publication_data/current_data/faculty_cs_CURRENT.txt'\n",
    "inst_file = '/Users/allisonmorgan/Documents/faculty_hiring/publication_data/current_data/inst_cs_CURRENT.txt'\n",
    "\n",
    "# (Optional, these are for loading publication profiles)\n",
    "dblp_dir = '/Users/allisonmorgan/Documents/faculty_hiring/publication_data/profiles_DBLP_Nov16/'"
   ]
  },
  {
   "cell_type": "code",
   "execution_count": 3,
   "metadata": {
    "collapsed": true
   },
   "outputs": [],
   "source": [
    "inst = institution_parser.parse_institution_records(open(inst_file))\n",
    "asst_faculty = load.load_assistant_profs(open(faculty_file), inst, ranking='pi')\n",
    "load.load_all_publications(asst_faculty, dblp_dir)"
   ]
  },
  {
   "cell_type": "code",
   "execution_count": 4,
   "metadata": {
    "collapsed": true
   },
   "outputs": [],
   "source": [
    "deep_learning_keywords = [\"convolutional net\", \"convolutional neural net\", \"convolutional neural field\", \" rnn \", \"deep learning\", \"deep-learning\", \"recursive neural net\", \"lstm\", \"long short-term memory\", \"generative adversarial network\", \"theano\", \"neural network\", \"deep belief net\", \"boltzmann machine\", \"convnet\", \"deep reinforcement learning\", \"deep neural network\", \" dnn \", \" dnn-\", \"multilayer perceptron\", \"autoencoder\", \"auto-encoder\", \"activation function\", \"backprop\", \"back-prop\", \"ladder network\", \"bidirectional rnn\", \"bidirectional recurrent\", \"imagenet\", \"restricted boltzmann\", \"rmsprop\", \"convnet\", \"artificial neural network\", \"connectionist\"]"
   ]
  },
  {
   "cell_type": "markdown",
   "metadata": {},
   "source": [
    "Need to find all faculty members who have ever worked at an institution. Returns an array of faculty."
   ]
  },
  {
   "cell_type": "code",
   "execution_count": 5,
   "metadata": {
    "collapsed": true
   },
   "outputs": [],
   "source": [
    "def faculty_at_institution(institution_name, asst_faculty):\n",
    "    people = []\n",
    "    for f in asst_faculty:\n",
    "        for job in f.faculty:\n",
    "            if job['rank'] != \"PostDoc\" and job['place'] == institution_name:\n",
    "                people.append(f)\n",
    "                break\n",
    "                \n",
    "    return people "
   ]
  },
  {
   "cell_type": "markdown",
   "metadata": {},
   "source": [
    "## General trend in deep-learning research"
   ]
  },
  {
   "cell_type": "code",
   "execution_count": 6,
   "metadata": {
    "collapsed": true
   },
   "outputs": [],
   "source": [
    "def distribution(asst_faculty, keywords):\n",
    "    yearly_rate = Counter()\n",
    "    for f in asst_faculty:\n",
    "        if f.__contains__(\"dblp_pubs\"):\n",
    "            for pub in f.dblp_pubs:\n",
    "                if any(pub['title'].lower().count(keyword) for keyword in keywords):\n",
    "                    yearly_rate[pub['year']] += 1\n",
    "                \n",
    "    return yearly_rate \n",
    "\n",
    "dist = distribution(asst_faculty, deep_learning_keywords)"
   ]
  },
  {
   "cell_type": "code",
   "execution_count": 7,
   "metadata": {},
   "outputs": [
    {
     "name": "stderr",
     "output_type": "stream",
     "text": [
      "/anaconda2/lib/python2.7/site-packages/matplotlib/font_manager.py:1316: UserWarning: findfont: Font family [u'sans-serif'] not found. Falling back to DejaVu Sans\n",
      "  (prop.get_family(), self.defaultFamily[fontext]))\n"
     ]
    },
    {
     "data": {
      "image/png": "[encoded data removed]",
      "text/plain": [
       "<matplotlib.figure.Figure at 0x10fd4f250>"
      ]
     },
     "metadata": {},
     "output_type": "display_data"
    }
   ],
   "source": [
    "x = dict(dist).keys(); y = [];\n",
    "for year, count in dict(dist).items():\n",
    "    y.append(count)\n",
    "    \n",
    "plt.figure(figsize=(12,6))\n",
    "plt.plot(x, y, color = 'k')\n",
    "plt.xlim(1980, 2015)\n",
    "plt.title('Counts of \"deep learning\" publications over time')\n",
    "plt.show()"
   ]
  },
  {
   "cell_type": "markdown",
   "metadata": {},
   "source": [
    "## Walk-through an example university"
   ]
  },
  {
   "cell_type": "markdown",
   "metadata": {},
   "source": [
    "Let's try this procedure on University of Colorado, Boulder"
   ]
  },
  {
   "cell_type": "code",
   "execution_count": 8,
   "metadata": {
    "collapsed": true
   },
   "outputs": [],
   "source": [
    "place = 'University of Colorado, Boulder'"
   ]
  },
  {
   "cell_type": "code",
   "execution_count": 9,
   "metadata": {
    "collapsed": true
   },
   "outputs": [],
   "source": [
    "def get_hires_and_publications(place, keywords, asst_faculty):\n",
    "    hires_and_publications = []\n",
    "    for f in faculty_at_institution(place, asst_faculty):\n",
    "        person = {\"facultyName\": f.facultyName}\n",
    "    \n",
    "        person[\"start\"] = 2020; person[\"end\"] = 0;\n",
    "        for job in f.faculty:\n",
    "            if job['place'] == place and not (job['start_year'] is None):\n",
    "                person[\"start\"] = min(job['start_year'], person[\"start\"])\n",
    "                person[\"end\"] = max(job['end_year'], person[\"end\"])\n",
    "    \n",
    "        if person[\"end\"] == 0:\n",
    "            person[\"end\"] = 2011\n",
    "        if person[\"start\"] == 2020:\n",
    "            continue\n",
    "    \n",
    "        relevant_pubs = []\n",
    "        if f.__contains__(\"dblp_pubs\"):\n",
    "            for pub in f.dblp_pubs:\n",
    "                if any((pub['title'].lower().count(keyword) > 0) for keyword in keywords): #or relevant_venue:\n",
    "                    #print(pub['title'])\n",
    "                    relevant_pubs.append(pub['year'])\n",
    "                        \n",
    "        person[\"pubs\"] = relevant_pubs\n",
    "    \n",
    "        hires_and_publications.append(person)\n",
    "    \n",
    "    return hires_and_publications"
   ]
  },
  {
   "cell_type": "markdown",
   "metadata": {},
   "source": [
    "Let's plot the above data so we can better see when hires and publications occurred."
   ]
  },
  {
   "cell_type": "code",
   "execution_count": 10,
   "metadata": {},
   "outputs": [
    {
     "data": {
      "image/png": "[encoded data removed]",
      "text/plain": [
       "<matplotlib.figure.Figure at 0x62b229950>"
      ]
     },
     "metadata": {},
     "output_type": "display_data"
    }
   ],
   "source": [
    "def plot_careers(place, keywords, asst_faculty):\n",
    "    i = 0\n",
    "    plt.figure(figsize=(20,10))\n",
    "    for person in get_hires_and_publications(place, keywords, asst_faculty):\n",
    "        #print person['facultyName']\n",
    "        plt.plot([person[\"start\"], person[\"end\"]], [i, i], linewidth= 4, color = 'k', alpha = .25)\n",
    "        plt.text(person[\"start\"], i, person[\"facultyName\"], fontsize=20)\n",
    "    \n",
    "        if len(person['pubs']) > 0:\n",
    "            plt.scatter(person['pubs'], [i]*len(person['pubs']), s = 24, color = [153.0/255.0, 0.0/255.0, 255.0/255.0])\n",
    "        i += 1\n",
    "\n",
    "    plt.xlim(1960, 2020)\n",
    "\n",
    "plot_careers(place, deep_learning_keywords, asst_faculty)"
   ]
  },
  {
   "cell_type": "markdown",
   "metadata": {},
   "source": [
    "Did the first deep-learning publication coincide with a faculty hiring event? Is the date of publication within two years of the author's hire? "
   ]
  },
  {
   "cell_type": "code",
   "execution_count": 11,
   "metadata": {},
   "outputs": [
    {
     "name": "stdout",
     "output_type": "stream",
     "text": [
      "\n",
      "Was a \"deep-learning\" researcher hired who might have led to the research area? ({'pubs': [1999, 1995, 1994, 1994, 1993, 1992, 1992, 1991, 1991, 1990], 'start': 1988, 'facultyName': 'Michael C. Mozer', 'end': 2011}, [1999, 1995, 1994, 1994, 1993, 1992, 1992, 1991, 1991, 1990])\n"
     ]
    }
   ],
   "source": [
    "def find_infected_hire(place, keywords, asst_faculty):\n",
    "    '''\n",
    "    Returns None if no infected hire found, otherwise the first hire\n",
    "    is returned as (person, year of infectious publication).\n",
    "    '''\n",
    "    candidates = []\n",
    "    for person in get_hires_and_publications(place, keywords, asst_faculty):\n",
    "        person_pubs = person[\"pubs\"]\n",
    "        # If we do not know the faculty member's start date, or they have no pubs\n",
    "        if not person[\"start\"] or len(person_pubs) == 0:\n",
    "            continue\n",
    "        \n",
    "        # Consider the publications when the entry was a professor at the institution\n",
    "        person_pubs = filter(lambda x: person[\"start\"] <= x <= person[\"end\"], person_pubs)\n",
    "        if person_pubs:\n",
    "            candidates.append((person, person_pubs))\n",
    "    \n",
    "    # If the university was never \"infected\"\n",
    "    if not candidates:\n",
    "        return None\n",
    "    else:\n",
    "        return min(candidates, key=lambda xs: min(xs[1]))\n",
    "        \n",
    "print \"\\nWas a \\\"deep-learning\\\" researcher hired who might have led to the research area? {0}\".format(find_infected_hire(place, deep_learning_keywords, asst_faculty))"
   ]
  },
  {
   "cell_type": "code",
   "execution_count": 12,
   "metadata": {
    "collapsed": true
   },
   "outputs": [],
   "source": [
    "def is_infected_hire(person, delta_t):\n",
    "    return any([(pub - person[0][\"start\"]) <= delta_t for pub in person[0][\"pubs\"]])"
   ]
  },
  {
   "cell_type": "code",
   "execution_count": 13,
   "metadata": {},
   "outputs": [
    {
     "name": "stdout",
     "output_type": "stream",
     "text": [
      "Was the person who infected CU Boulder (Mike Mozer), infected by hiring? True\n"
     ]
    }
   ],
   "source": [
    "print \"Was the person who infected CU Boulder (Mike Mozer), infected by hiring? {0}\".format(is_infected_hire(find_infected_hire(place, deep_learning_keywords, asst_faculty), 2))"
   ]
  },
  {
   "cell_type": "markdown",
   "metadata": {},
   "source": [
    "## For all universities"
   ]
  },
  {
   "cell_type": "code",
   "execution_count": 14,
   "metadata": {
    "collapsed": true
   },
   "outputs": [],
   "source": [
    "def percent_has_relevant_prior_pubs(delta_t, keywords, asst_faculty):\n",
    "    n_no_priors = 0\n",
    "    n_yes_priors = 0\n",
    "    total = 0\n",
    "    # Go through every institution\n",
    "    for place in inst.keys():\n",
    "        if place == \"UNKNOWN\" or place == \"All others\":\n",
    "            continue\n",
    "            \n",
    "        # Look for the faculty member which has infected the institution \n",
    "        infected_hire = find_infected_hire(place, keywords, asst_faculty)\n",
    "        if not infected_hire:\n",
    "            continue\n",
    "        \n",
    "        # Were they publishing on deep-learning before their hire date?\n",
    "        if is_infected_hire(infected_hire, delta_t):\n",
    "            n_yes_priors += 1\n",
    "        else:\n",
    "            n_no_priors += 1\n",
    "        total += 1\n",
    "    \n",
    "    print(\"Hires with no background in topic: {0}, Hires with background in topic: {1}, Total infected univesities: {2}\".format(n_no_priors, n_yes_priors, total))\n",
    "    return (float(n_no_priors)/total, float(n_yes_priors)/total)"
   ]
  },
  {
   "cell_type": "code",
   "execution_count": 15,
   "metadata": {
    "scrolled": true
   },
   "outputs": [
    {
     "name": "stdout",
     "output_type": "stream",
     "text": [
      ">>> Deep Learning (n_keywords: 34)\n",
      "Hires with no background in topic: 79, Hires with background in topic: 40, Total infected univesities: 119\n",
      "Fraction of infections due to hiring: 0.336134453782, not due to hiring: 0.663865546218\n",
      "\n",
      ">>> Topic Modeling (n_keywords: 7)\n",
      "Hires with no background in topic: 29, Hires with background in topic: 14, Total infected univesities: 43\n",
      "Fraction of infections due to hiring: 0.325581395349, not due to hiring: 0.674418604651\n",
      "\n",
      ">>> Incremental Computation (n_keywords: 23)\n",
      "Hires with no background in topic: 17, Hires with background in topic: 11, Total infected univesities: 28\n",
      "Fraction of infections due to hiring: 0.392857142857, not due to hiring: 0.607142857143\n"
     ]
    }
   ],
   "source": [
    "topic_modeling_keywords = [\"probabilistic latent semantic analysis\", \"plsa\", \"latent dirichlet allocation\",\n",
    "                           \"latent semantic analysis\", \"latent semantic indexing\", \"topic model\", \n",
    "                           \"probabilistic topic modeling\"]\n",
    "incremental_keywords = [\"incremental computation\", \"self-adjusting computation\", \"program derivative\",\"dbtoaster\",\n",
    "                        \"incremental view\", \"partial evaluation\", \"incremental computing\",\n",
    "                        \"incrementally compute\", \"frtime\", \"adaptive functional programming\", \"delta ml\", \n",
    "                        \"haskell adaptive\", \"cornell synthesizer generator\", \"icedust\", \"adapton\", \n",
    "                        \"one-way dataflow constraints\", \"reactive computation\", \"differential dataflow\",\n",
    "                        \"jane street incremental\", \"incremental datalog\", \"incremental prolog\", \n",
    "                        \"incremental type checking\", \"self-adjusting\"]\n",
    "deep_learning_keywords = [\"convolutional net\", \"convolutional neural net\", \"convolutional neural field\",\n",
    "                         \" rnn \", \"deep learning\", \"deep-learning\", \"recursive neural net\", \"lstm\",\n",
    "                         \"long short-term memory\", \"generative adversarial network\", \"theano\",\n",
    "                         \"neural network\", \"deep belief net\", \"boltzmann machine\", \"convnet\",\n",
    "                         \"deep reinforcement learning\", \"deep neural network\", \" dnn \", \" dnn-\",\n",
    "                         \"multilayer perceptron\", \"autoencoder\", \"auto-encoder\", \"activation function\",\n",
    "                         \"backprop\", \"back-prop\", \"ladder network\", \"bidirectional rnn\", \"bidirectional recurrent\",\n",
    "                         \"imagenet\", \"restricted boltzmann\", \"rmsprop\", \"convnet\", \"artificial neural network\", \n",
    "                          \"connectionist\"]\n",
    "\n",
    "print(\">>> Deep Learning (n_keywords: {0})\".format(len(deep_learning_keywords)))\n",
    "(prob_no_priors, prob_yes_priors) = percent_has_relevant_prior_pubs(2, deep_learning_keywords, asst_faculty)\n",
    "print(\"Fraction of infections due to hiring: {0}, not due to hiring: {1}\\n\".format(prob_yes_priors, prob_no_priors))\n",
    "print(\">>> Topic Modeling (n_keywords: {0})\".format(len(topic_modeling_keywords)))\n",
    "(prob_no_priors, prob_yes_priors) = percent_has_relevant_prior_pubs(2, topic_modeling_keywords, asst_faculty)\n",
    "print(\"Fraction of infections due to hiring: {0}, not due to hiring: {1}\\n\".format(prob_yes_priors, prob_no_priors))\n",
    "print(\">>> Incremental Computation (n_keywords: {0})\".format(len(incremental_keywords)))\n",
    "(prob_no_priors, prob_yes_priors) = percent_has_relevant_prior_pubs(2, incremental_keywords, asst_faculty)\n",
    "print(\"Fraction of infections due to hiring: {0}, not due to hiring: {1}\".format(prob_yes_priors, prob_no_priors))"
   ]
  },
  {
   "cell_type": "markdown",
   "metadata": {},
   "source": [
    "## Null Model"
   ]
  },
  {
   "cell_type": "code",
   "execution_count": 16,
   "metadata": {
    "collapsed": true
   },
   "outputs": [],
   "source": [
    "import copy\n",
    "import random\n",
    "\n",
    "asst_faculty_shuffled = copy.deepcopy(asst_faculty)\n",
    "all_titles = []\n",
    "\n",
    "for f in asst_faculty:\n",
    "    if f.__contains__(\"dblp_pubs\"):\n",
    "        for pub in f.dblp_pubs:\n",
    "            all_titles.append(pub['title'])"
   ]
  },
  {
   "cell_type": "markdown",
   "metadata": {},
   "source": [
    "Generate our null model by shuffling the list of publications, and assigning them to faculty at random."
   ]
  },
  {
   "cell_type": "code",
   "execution_count": 17,
   "metadata": {},
   "outputs": [
    {
     "name": "stdout",
     "output_type": "stream",
     "text": [
      "Hires with no background in topic: 33, Hires with background in topic: 8, Total infected univesities: 41\n",
      "Fraction of infections due to hiring: 0.19512195122, not due to hiring: 0.80487804878\n",
      "Hires with no background in topic: 41, Hires with background in topic: 7, Total infected univesities: 48\n",
      "Fraction of infections due to hiring: 0.145833333333, not due to hiring: 0.854166666667\n",
      "Hires with no background in topic: 37, Hires with background in topic: 10, Total infected univesities: 47\n",
      "Fraction of infections due to hiring: 0.212765957447, not due to hiring: 0.787234042553\n",
      "Hires with no background in topic: 33, Hires with background in topic: 8, Total infected univesities: 41\n",
      "Fraction of infections due to hiring: 0.19512195122, not due to hiring: 0.80487804878\n",
      "Hires with no background in topic: 30, Hires with background in topic: 8, Total infected univesities: 38\n",
      "Fraction of infections due to hiring: 0.210526315789, not due to hiring: 0.789473684211\n",
      "Hires with no background in topic: 40, Hires with background in topic: 7, Total infected univesities: 47\n",
      "Fraction of infections due to hiring: 0.148936170213, not due to hiring: 0.851063829787\n",
      "Hires with no background in topic: 35, Hires with background in topic: 3, Total infected univesities: 38\n",
      "Fraction of infections due to hiring: 0.0789473684211, not due to hiring: 0.921052631579\n",
      "Hires with no background in topic: 46, Hires with background in topic: 7, Total infected univesities: 53\n",
      "Fraction of infections due to hiring: 0.132075471698, not due to hiring: 0.867924528302\n",
      "Hires with no background in topic: 35, Hires with background in topic: 8, Total infected univesities: 43\n",
      "Fraction of infections due to hiring: 0.186046511628, not due to hiring: 0.813953488372\n",
      "Hires with no background in topic: 38, Hires with background in topic: 4, Total infected univesities: 42\n",
      "Fraction of infections due to hiring: 0.0952380952381, not due to hiring: 0.904761904762\n",
      "Hires with no background in topic: 30, Hires with background in topic: 14, Total infected univesities: 44\n",
      "Fraction of infections due to hiring: 0.318181818182, not due to hiring: 0.681818181818\n",
      "Hires with no background in topic: 34, Hires with background in topic: 9, Total infected univesities: 43\n",
      "Fraction of infections due to hiring: 0.209302325581, not due to hiring: 0.790697674419\n",
      "Hires with no background in topic: 36, Hires with background in topic: 8, Total infected univesities: 44\n",
      "Fraction of infections due to hiring: 0.181818181818, not due to hiring: 0.818181818182\n",
      "Hires with no background in topic: 38, Hires with background in topic: 6, Total infected univesities: 44\n",
      "Fraction of infections due to hiring: 0.136363636364, not due to hiring: 0.863636363636\n",
      "Hires with no background in topic: 35, Hires with background in topic: 10, Total infected univesities: 45\n",
      "Fraction of infections due to hiring: 0.222222222222, not due to hiring: 0.777777777778\n",
      "Hires with no background in topic: 37, Hires with background in topic: 12, Total infected univesities: 49\n",
      "Fraction of infections due to hiring: 0.244897959184, not due to hiring: 0.755102040816\n",
      "Hires with no background in topic: 32, Hires with background in topic: 10, Total infected univesities: 42\n",
      "Fraction of infections due to hiring: 0.238095238095, not due to hiring: 0.761904761905\n",
      "Hires with no background in topic: 41, Hires with background in topic: 16, Total infected univesities: 57\n",
      "Fraction of infections due to hiring: 0.280701754386, not due to hiring: 0.719298245614\n",
      "Hires with no background in topic: 39, Hires with background in topic: 8, Total infected univesities: 47\n",
      "Fraction of infections due to hiring: 0.170212765957, not due to hiring: 0.829787234043\n",
      "Hires with no background in topic: 48, Hires with background in topic: 9, Total infected univesities: 57\n",
      "Fraction of infections due to hiring: 0.157894736842, not due to hiring: 0.842105263158\n",
      "Hires with no background in topic: 39, Hires with background in topic: 4, Total infected univesities: 43\n",
      "Fraction of infections due to hiring: 0.093023255814, not due to hiring: 0.906976744186\n",
      "Hires with no background in topic: 36, Hires with background in topic: 6, Total infected univesities: 42\n",
      "Fraction of infections due to hiring: 0.142857142857, not due to hiring: 0.857142857143\n",
      "Hires with no background in topic: 32, Hires with background in topic: 8, Total infected univesities: 40\n",
      "Fraction of infections due to hiring: 0.2, not due to hiring: 0.8\n",
      "Hires with no background in topic: 37, Hires with background in topic: 9, Total infected univesities: 46\n",
      "Fraction of infections due to hiring: 0.195652173913, not due to hiring: 0.804347826087\n",
      "Hires with no background in topic: 32, Hires with background in topic: 6, Total infected univesities: 38\n",
      "Fraction of infections due to hiring: 0.157894736842, not due to hiring: 0.842105263158\n",
      "Hires with no background in topic: 36, Hires with background in topic: 8, Total infected univesities: 44\n",
      "Fraction of infections due to hiring: 0.181818181818, not due to hiring: 0.818181818182\n",
      "Hires with no background in topic: 42, Hires with background in topic: 12, Total infected univesities: 54\n",
      "Fraction of infections due to hiring: 0.222222222222, not due to hiring: 0.777777777778\n",
      "Hires with no background in topic: 43, Hires with background in topic: 7, Total infected univesities: 50\n",
      "Fraction of infections due to hiring: 0.14, not due to hiring: 0.86\n",
      "Hires with no background in topic: 37, Hires with background in topic: 1, Total infected univesities: 38\n",
      "Fraction of infections due to hiring: 0.0263157894737, not due to hiring: 0.973684210526\n",
      "Hires with no background in topic: 41, Hires with background in topic: 7, Total infected univesities: 48\n",
      "Fraction of infections due to hiring: 0.145833333333, not due to hiring: 0.854166666667\n",
      "Hires with no background in topic: 35, Hires with background in topic: 11, Total infected univesities: 46\n",
      "Fraction of infections due to hiring: 0.239130434783, not due to hiring: 0.760869565217\n",
      "Hires with no background in topic: 25, Hires with background in topic: 10, Total infected univesities: 35\n",
      "Fraction of infections due to hiring: 0.285714285714, not due to hiring: 0.714285714286\n",
      "Hires with no background in topic: 38, Hires with background in topic: 6, Total infected univesities: 44\n",
      "Fraction of infections due to hiring: 0.136363636364, not due to hiring: 0.863636363636\n",
      "Hires with no background in topic: 39, Hires with background in topic: 10, Total infected univesities: 49\n",
      "Fraction of infections due to hiring: 0.204081632653, not due to hiring: 0.795918367347\n",
      "Hires with no background in topic: 39, Hires with background in topic: 9, Total infected univesities: 48\n",
      "Fraction of infections due to hiring: 0.1875, not due to hiring: 0.8125\n",
      "Hires with no background in topic: 30, Hires with background in topic: 12, Total infected univesities: 42\n",
      "Fraction of infections due to hiring: 0.285714285714, not due to hiring: 0.714285714286\n",
      "Hires with no background in topic: 36, Hires with background in topic: 10, Total infected univesities: 46\n",
      "Fraction of infections due to hiring: 0.217391304348, not due to hiring: 0.782608695652\n",
      "Hires with no background in topic: 38, Hires with background in topic: 3, Total infected univesities: 41\n",
      "Fraction of infections due to hiring: 0.0731707317073, not due to hiring: 0.926829268293\n",
      "Hires with no background in topic: 29, Hires with background in topic: 14, Total infected univesities: 43\n",
      "Fraction of infections due to hiring: 0.325581395349, not due to hiring: 0.674418604651\n",
      "Hires with no background in topic: 34, Hires with background in topic: 8, Total infected univesities: 42\n",
      "Fraction of infections due to hiring: 0.190476190476, not due to hiring: 0.809523809524\n",
      "Hires with no background in topic: 38, Hires with background in topic: 7, Total infected univesities: 45\n",
      "Fraction of infections due to hiring: 0.155555555556, not due to hiring: 0.844444444444\n",
      "Hires with no background in topic: 43, Hires with background in topic: 6, Total infected univesities: 49\n",
      "Fraction of infections due to hiring: 0.122448979592, not due to hiring: 0.877551020408\n",
      "Hires with no background in topic: 42, Hires with background in topic: 5, Total infected univesities: 47\n",
      "Fraction of infections due to hiring: 0.106382978723, not due to hiring: 0.893617021277\n"
     ]
    },
    {
     "name": "stdout",
     "output_type": "stream",
     "text": [
      "Hires with no background in topic: 35, Hires with background in topic: 11, Total infected univesities: 46\n",
      "Fraction of infections due to hiring: 0.239130434783, not due to hiring: 0.760869565217\n",
      "Hires with no background in topic: 28, Hires with background in topic: 14, Total infected univesities: 42\n",
      "Fraction of infections due to hiring: 0.333333333333, not due to hiring: 0.666666666667\n",
      "Hires with no background in topic: 33, Hires with background in topic: 14, Total infected univesities: 47\n",
      "Fraction of infections due to hiring: 0.297872340426, not due to hiring: 0.702127659574\n",
      "Hires with no background in topic: 37, Hires with background in topic: 5, Total infected univesities: 42\n",
      "Fraction of infections due to hiring: 0.119047619048, not due to hiring: 0.880952380952\n",
      "Hires with no background in topic: 33, Hires with background in topic: 12, Total infected univesities: 45\n",
      "Fraction of infections due to hiring: 0.266666666667, not due to hiring: 0.733333333333\n",
      "Hires with no background in topic: 32, Hires with background in topic: 11, Total infected univesities: 43\n",
      "Fraction of infections due to hiring: 0.255813953488, not due to hiring: 0.744186046512\n",
      "Hires with no background in topic: 53, Hires with background in topic: 4, Total infected univesities: 57\n",
      "Fraction of infections due to hiring: 0.0701754385965, not due to hiring: 0.929824561404\n"
     ]
    }
   ],
   "source": [
    "shuffled = copy.copy(all_titles)\n",
    "fraction_dist = []\n",
    "for i in range(50):\n",
    "    random.shuffle(shuffled)\n",
    "    for f in asst_faculty_shuffled:\n",
    "        if f.__contains__(\"dblp_pubs\"):\n",
    "            for pub in f.dblp_pubs:\n",
    "                pub['title'] = shuffled.pop()\n",
    "    \n",
    "    (prob_no_priors, prob_yes_priors) = percent_has_relevant_prior_pubs(2, incremental_keywords, asst_faculty_shuffled)\n",
    "    print(\"Fraction of infections due to hiring: {0}, not due to hiring: {1}\".format(prob_yes_priors, prob_no_priors))\n",
    "    fraction_dist.append(prob_yes_priors)\n",
    "    shuffled = copy.copy(all_titles)"
   ]
  },
  {
   "cell_type": "code",
   "execution_count": 18,
   "metadata": {},
   "outputs": [
    {
     "data": {
      "text/plain": [
       "(array([ 0.65142857,  1.95428571,  1.95428571,  6.51428571,  2.60571429,\n",
       "         7.16571429,  5.21142857,  1.95428571,  2.60571429,  1.95428571]),\n",
       " array([ 0.02631579,  0.05701754,  0.0877193 ,  0.11842105,  0.14912281,\n",
       "         0.17982456,  0.21052632,  0.24122807,  0.27192982,  0.30263158,\n",
       "         0.33333333]),\n",
       " <a list of 10 Patch objects>)"
      ]
     },
     "execution_count": 18,
     "metadata": {},
     "output_type": "execute_result"
    },
    {
     "data": {
      "image/png": "[encoded data removed]",
      "text/plain": [
       "<matplotlib.figure.Figure at 0x62b41c190>"
      ]
     },
     "metadata": {},
     "output_type": "display_data"
    }
   ],
   "source": [
    "plt.hist(fraction_dist, normed=True)"
   ]
  },
  {
   "cell_type": "code",
   "execution_count": 19,
   "metadata": {},
   "outputs": [
    {
     "name": "stdout",
     "output_type": "stream",
     "text": [
      "How many simulations resulting in a higher infection rate due to hiring? 0.0196078431373\n"
     ]
    }
   ],
   "source": [
    "print \"How many simulations resulting in a higher infection rate due to hiring? {0}\".format((len([x for x in fraction_dist if x >= (0.392857142857)]) + 1)/(len(fraction_dist) + 1))"
   ]
  },
  {
   "cell_type": "markdown",
   "metadata": {},
   "source": [
    "## Load Cached Simulations of Null Model"
   ]
  },
  {
   "cell_type": "markdown",
   "metadata": {},
   "source": [
    "The above simulation was run 10,000 times to generate the three pickles in this folder: `deep_learning.p`, `incremental.p`, and `topic_modeling.p`. \n",
    "\n",
    "Let's load them in here. First, checking \"incremental computation\":"
   ]
  },
  {
   "cell_type": "code",
   "execution_count": 20,
   "metadata": {
    "collapsed": true
   },
   "outputs": [],
   "source": [
    "import cPickle\n",
    "with open(\"/Users/allisonmorgan/Code/src/github.com/allisonmorgan/epistemic_inequality/publications/incremental.p\", \"rb\") as input_file:\n",
    "    x = cPickle.load(input_file)"
   ]
  },
  {
   "cell_type": "code",
   "execution_count": 21,
   "metadata": {},
   "outputs": [
    {
     "name": "stdout",
     "output_type": "stream",
     "text": [
      "How many simulations have been run? 10000\n"
     ]
    }
   ],
   "source": [
    "print(\"How many simulations have been run? {0}\".format(len(x)))"
   ]
  },
  {
   "cell_type": "code",
   "execution_count": 22,
   "metadata": {},
   "outputs": [
    {
     "name": "stdout",
     "output_type": "stream",
     "text": [
      "What is the average infection due to hiring under model? 0.193805365345\n",
      "How many simulations resulting in a higher infection rate due to hiring? 0.001099890011\n"
     ]
    }
   ],
   "source": [
    "real_infection_rate = 0.392857142857 # From \"For all universities\" section above\n",
    "print(\"What is the average infection due to hiring under model? {0}\".format(sum(x)/len(x)))\n",
    "print(\"How many simulations resulting in a higher infection rate due to hiring? {0}\".format((len([i for i in x if i >= real_infection_rate]) + 1)/(len(x) + 1)))"
   ]
  },
  {
   "cell_type": "markdown",
   "metadata": {},
   "source": [
    "Next, checking \"topic modeling\":"
   ]
  },
  {
   "cell_type": "code",
   "execution_count": 23,
   "metadata": {
    "collapsed": true
   },
   "outputs": [],
   "source": [
    "with open(\"/Users/allisonmorgan/Code/src/github.com/allisonmorgan/epistemic_inequality/publications/topic_modeling.p\", \"rb\") as input_file:\n",
    "    x = cPickle.load(input_file)"
   ]
  },
  {
   "cell_type": "code",
   "execution_count": 24,
   "metadata": {},
   "outputs": [
    {
     "name": "stdout",
     "output_type": "stream",
     "text": [
      "How many simulations have been run? 10000\n"
     ]
    }
   ],
   "source": [
    "print(\"How many simulations have been run? {0}\".format(len(x)))"
   ]
  },
  {
   "cell_type": "code",
   "execution_count": 25,
   "metadata": {},
   "outputs": [
    {
     "name": "stdout",
     "output_type": "stream",
     "text": [
      "What is the average infection due to hiring under model? 0.224871459028\n",
      "How many simulations resulting in a higher infection rate due to hiring? 0.010398960104\n"
     ]
    }
   ],
   "source": [
    "real_infection_rate = 0.325581395349 # From \"For all universities\" section above\n",
    "print(\"What is the average infection due to hiring under model? {0}\".format(sum(x)/len(x)))\n",
    "print(\"How many simulations resulting in a higher infection rate due to hiring? {0}\".format((len([i for i in x if i >= real_infection_rate]) + 1)/(len(x) + 1)))"
   ]
  },
  {
   "cell_type": "markdown",
   "metadata": {},
   "source": [
    "Finally, check \"deep learning\":"
   ]
  },
  {
   "cell_type": "code",
   "execution_count": 26,
   "metadata": {
    "collapsed": true
   },
   "outputs": [],
   "source": [
    "with open(\"/Users/allisonmorgan/Code/src/github.com/allisonmorgan/epistemic_inequality/publications/deep_learning.p\", \"rb\") as input_file:\n",
    "    x = cPickle.load(input_file)"
   ]
  },
  {
   "cell_type": "code",
   "execution_count": 27,
   "metadata": {},
   "outputs": [
    {
     "name": "stdout",
     "output_type": "stream",
     "text": [
      "How many simulations have been run? 10000\n"
     ]
    }
   ],
   "source": [
    "print(\"How many simulations have been run? {0}\".format(len(x)))"
   ]
  },
  {
   "cell_type": "code",
   "execution_count": 28,
   "metadata": {},
   "outputs": [
    {
     "name": "stdout",
     "output_type": "stream",
     "text": [
      "What is the average infection due to hiring under model? 0.302162023439\n",
      "How many simulations resulting in a higher infection rate due to hiring? 0.166583341666\n"
     ]
    }
   ],
   "source": [
    "real_infection_rate = 0.336134453782 # From \"For all universities\" section above\n",
    "print(\"What is the average infection due to hiring under model? {0}\".format(sum(x)/len(x)))\n",
    "print(\"How many simulations resulting in a higher infection rate due to hiring? {0}\".format((len([i for i in x if i >= real_infection_rate]) + 1)/(len(x) + 1)))"
   ]
  },
  {
   "cell_type": "code",
   "execution_count": null,
   "metadata": {
    "collapsed": true
   },
   "outputs": [],
   "source": []
  }
 ],
 "metadata": {
  "kernelspec": {
   "display_name": "Python 2",
   "language": "python",
   "name": "python2"
  },
  "language_info": {
   "codemirror_mode": {
    "name": "ipython",
    "version": 2
   },
   "file_extension": ".py",
   "mimetype": "text/x-python",
   "name": "python",
   "nbconvert_exporter": "python",
   "pygments_lexer": "ipython2",
   "version": "2.7.14"
  }
 },
 "nbformat": 4,
 "nbformat_minor": 1
}
